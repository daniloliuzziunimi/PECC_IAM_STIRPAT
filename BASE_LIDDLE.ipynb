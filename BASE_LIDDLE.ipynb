{
 "cells": [
  {
   "cell_type": "markdown",
   "id": "908476b0",
   "metadata": {},
   "source": [
    "Intro of the author"
   ]
  },
  {
   "cell_type": "code",
   "execution_count": 1,
   "id": "f3bafae7",
   "metadata": {},
   "outputs": [],
   "source": [
    "# This is a Julia version of Willam Nordhaus' DICE2016 model, obtained from\n",
    "# the model author's website <https://sites.google.com/site/williamdnordhaus/dice-rice>,\n",
    "# translated from original GAMS code by Lupi,Liuzzi, with the help of \n",
    "#Oleg Lugovoy(https://github.com/olugovoy/) and \n",
    "# and Libbub (https://github.com/Libbum/DICE.jl)\n",
    "#Run \"install.jl\" file to add all required packages:\n",
    "#\n",
    "#if Pkg.installed(\"CSV\") == nothing Pkg.add(\"CSV\") end\n",
    "#if Pkg.installed(\"JuMP\") == nothing Pkg.add(\"JuMP\") end\n",
    "#if Pkg.installed(\"Ipopt\") == nothing Pkg.add(\"Ipopt\") end\n",
    "#if Pkg.installed(\"DataFrames\") == nothing Pkg.add(\"DataFrames\") end\n",
    "#if Pkg.installed(\"Gadfly\") == nothing Pkg.add(\"Gadfly\") end\n",
    "#if Pkg.installed(\"JLD\") == nothing Pkg.add(\"JLD\") end\n",
    "#import Pkg\n",
    "#Pkg.add(\"JLD2\")"
   ]
  },
  {
   "cell_type": "markdown",
   "id": "a08b8110",
   "metadata": {},
   "source": [
    "Scalars"
   ]
  },
  {
   "cell_type": "code",
   "execution_count": 2,
   "id": "73706939",
   "metadata": {},
   "outputs": [],
   "source": [
    "N = 100 #Number of years to calculate (from 2015 onwards)\n",
    "tstep = 5 #Years per Period\n",
    "α = 1.45 #Elasticity of marginal utility of consumption\n",
    "ρ = 0.015 #Initial rate of social time preference per year ρ\n",
    "γₑ = 0.3 #Capital elasticity in production function\n",
    "pop₀ = 7403 #Initial world population 2015 (millions)\n",
    "popadj = 0.134 #Growth rate to calibrate to 2050 pop projection\n",
    "popasym = 11100 #Asymptotic population (millions)\n",
    "δk = 0.1 #Depreciation rate on capital (per year)\n",
    "q₀ = 105.5 #Initial world gross output 2015 (trill 2010 USD)\n",
    "k₀ = 223.0 #Initial capital value 2015 (trill 2010 USD)\n",
    "a₀ = 5.115 #Initial level of total factor productivity\n",
    "ga₀ = 0.076 #Initial growth rate for TFP per 5 years\n",
    "δₐ = 0.005 #Decline rate of TFP per 5 years\n",
    "gσ₁ = -0.0152 #Initial growth of sigma (continuous per year)\n",
    "δσ = -0.001 #Decline rate of decarbonization per period\n",
    "eland₀ = 2.6 #Carbon emissions from land 2015 (GtCO2 per year)\n",
    "deland = 0.115 #Decline rate of land emissions (per period)\n",
    "e₀ = 35.85 #Industrial emissions 2015 (GtCO2 per year)\n",
    "μ₀ = 0.03 #Initial emissions control rate for base case 2015\n",
    "mat₀ = 851.0 #Initial Concentration in atmosphere 2015 (GtC)\n",
    "mu₀ = 460.0 #Initial Concentration in upper strata 2015 (GtC)\n",
    "ml₀ = 1740.0 #Initial Concentration in lower strata 2015 (GtC)\n",
    "mateq = 588.0 #Equilibrium concentration atmosphere  (GtC)\n",
    "mueq = 360.0 #Equilibrium concentration in upper strata (GtC)\n",
    "mleq = 1720.0 #Equilibrium concentration in lower strata (GtC)\n",
    "ϕ₁₂ = 0.12 #Carbon cycle transition matrix coefficient\n",
    "ϕ₂₃ = 0.007 #Carbon cycle transition matrix coefficient\n",
    "#t2xco2 = 3.1 #Equilibrium temp impact (oC per doubling CO2)\n",
    "t2xco2 = 2.5 #Equilibrium temp impact (oC per doubling CO2)\n",
    "fₑₓ0 = 0.5 #2015 forcings of non-CO2 GHG (Wm-2)\n",
    "fₑₓ1 = 1.0 #2100 forcings of non-CO2 GHG (Wm-2)\n",
    "tocean₀ = 0.0068 #Initial lower stratum temp change (C from 1900)\n",
    "tatm₀ = 0.85 #Initial atmospheric temp change (C from 1900)\n",
    "ξ₁ = 0.1005 #Climate equation coefficient for upper level\n",
    "ξ₃ = 0.088 #Transfer coefficient upper to lower stratum\n",
    "ξ₄ = 0.025 #Transfer coefficient for lower level\n",
    "η = 3.6813 #Forcings of equilibrium CO2 doubling (Wm-2)\n",
    "ψ₁₀ = 0.0 #Initial damage intercept\n",
    "ψ₁ = 0.0 #Damage intercept\n",
    "#Baseline\n",
    "#ψ₂ = 0.00236 #Damage quadratic term\n",
    "ψ₂ = 0.0 #Damage quadratic term\n",
    "ψ₃ = 2.0 #Damage exponent\n",
    "θ₂ = 2.6 #Exponent of control cost function\n",
    "pback = 550.0 #Cost of backstop 2010$ per tCO2 2015\n",
    "gback = 0.025 #Initial cost decline backstop cost per period\n",
    "limμ = 1.2 #Upper limit on control rate after 2150\n",
    "tnopol = 45.0 #Period before which no emissions controls base\n",
    "cprice₀ = 2.0 #Initial base carbon price (2010$ per tCO2)\n",
    "gcprice = 0.02 #Growth rate of base carbon price per year\n",
    "fosslim = 6000.0 #Maximum cumulative extraction fossil fuels (GtC)\n",
    "scale1 = 0.0302455265681763 #Multiplicative scaling coefficient\n",
    "scale2 = -10993.704 #Additive scaling coefficient\n",
    "\n",
    "#High weigth to population -Liddle 2015 [b=1.26, c=1]\n",
    "v_kappa  = 0  #weight of emissions - varying this parameter gives problem\n",
    "v_psi  = 0.87  #output elasticity\n",
    "v_omega = 0.98 #population elasticity\n",
    "v_epsilon = 1   #total utilitarianism\n",
    ";"
   ]
  },
  {
   "cell_type": "markdown",
   "id": "d35fbb08",
   "metadata": {},
   "source": [
    "Generating scalars"
   ]
  },
  {
   "cell_type": "code",
   "execution_count": 3,
   "id": "48d5ab6c",
   "metadata": {},
   "outputs": [],
   "source": [
    "optlrsav = (δk + .004)/(δk + .004*α + ρ)*γₑ; # Optimal savings rate\n",
    "ϕ₁₁ = 1 - ϕ₁₂; # Carbon cycle transition matrix coefficient\n",
    "ϕ₂₁ = ϕ₁₂*mateq/mueq; # Carbon cycle transition matrix coefficient\n",
    "ϕ₂₂ = 1 - ϕ₂₁ - ϕ₂₃; # Carbon cycle transition matrix coefficient\n",
    "ϕ₃₂ = ϕ₂₃*mueq/mleq; # Carbon cycle transition matrix coefficient\n",
    "ϕ₃₃ = 1 - ϕ₃₂; # Carbon cycle transition matrix coefficient\n",
    "σ₀ = e₀/(q₀*(1-μ₀)); # Carbon intensity 2010 (kgCO2 per output 2010 USD 2010)\n",
    "λ = η/t2xco2; # Climate model parameter"
   ]
  },
  {
   "cell_type": "markdown",
   "id": "d5bbf142",
   "metadata": {},
   "source": [
    "Parameters"
   ]
  },
  {
   "cell_type": "code",
   "execution_count": 4,
   "id": "11198f9d",
   "metadata": {},
   "outputs": [],
   "source": [
    "# Backstop price\n",
    "    pbacktime = Array{Float64}(undef, N); #undef è un inizializzatore\n",
    "# Growth rate of productivity from 0 to N\n",
    "    gₐ = Array{Float64}(undef, N);\n",
    "# Emissions from deforestation\n",
    "    Etree = Array{Float64}(undef, N);\n",
    "# Average utility social discount rate\n",
    "    rr = Array{Float64}(undef, N);\n",
    "# Carbon price in base case\n",
    "    cpricebase = Array{Float64}(undef, N);\n",
    "\n",
    "for i in 1:N\n",
    "    pbacktime[i] = pback*(1-gback)^(i-1);\n",
    "    gₐ[i] = ga₀*exp.(-δₐ*5*(i-1));\n",
    "    Etree[i] = eland₀*(1-deland)^(i-1);\n",
    "    rr[i] = 1/((1+ρ)^(tstep*(i-1)));\n",
    "    cpricebase[i] = cprice₀*(1+gcprice)^(5*(i-1));\n",
    "end"
   ]
  },
  {
   "cell_type": "code",
   "execution_count": 5,
   "id": "d68d0c52",
   "metadata": {},
   "outputs": [],
   "source": [
    "# Level of population and labor\n",
    "L = Array{Float64}(undef, N);\n",
    "L[1] = pop₀;\n",
    "# Level of total factor productivity\n",
    "A = Array{Float64}(undef, N);\n",
    "A[1] = a₀;\n",
    "# Change in sigma (cumulative improvement of energy efficiency)\n",
    "gσ = Array{Float64}(undef, N);\n",
    "gσ[1] = gσ₁;\n",
    "# CO2-equivalent-emissions output ratio\n",
    "σ = Array{Float64}(undef, N);\n",
    "σ[1] = σ₀;\n",
    "# Cumulative from land\n",
    "cumtree = Array{Float64}(undef, N);\n",
    "cumtree[1] = 100.0;\n",
    "\n",
    "for i in 1:N-1\n",
    "    L[i+1] = L[i]*(popasym/L[i])^popadj;\n",
    "    A[i+1] = A[i]/(1-gₐ[i]);\n",
    "    gσ[i+1] = gσ[i]*((1+δσ)^tstep);\n",
    "    σ[i+1] = σ[i]*exp.(gσ[i]*tstep);\n",
    "    cumtree[i+1] = cumtree[i]+Etree[i]*(5/3.666);\n",
    "end\n",
    "\n",
    "# Adjusted cost for backstop\n",
    "θ₁ = Array{Float64}(undef, N);\n",
    "# Exogenous forcing for other greenhouse gases\n",
    "fₑₓ = Array{Float64}(undef, N);\n",
    "\n",
    "for i in 1:N\n",
    "        θ₁[i] = pbacktime[i]*σ[i]/θ₂/1000.0;\n",
    "#        fₑₓ[i] = if i <= 18\n",
    "        fₑₓ[i] = if i <= 12\n",
    "                        #fₑₓ0+(1/17)*(fₑₓ1-fₑₓ0)*(i-1)\n",
    "                        fₑₓ0+(1/11)*(fₑₓ1-fₑₓ0)*(i-1)\n",
    "                    else\n",
    "                        #fₑₓ1\n",
    "                        fₑₓ1-fₑₓ0\n",
    "                    end;\n",
    "end"
   ]
  },
  {
   "cell_type": "markdown",
   "id": "87a39001",
   "metadata": {},
   "source": [
    "Let's start with JuMP. The model \"dice\""
   ]
  },
  {
   "cell_type": "code",
   "execution_count": 6,
   "id": "4a04a26d",
   "metadata": {},
   "outputs": [
    {
     "data": {
      "text/plain": [
       "A JuMP Model\n",
       "Feasibility problem with:\n",
       "Variables: 0\n",
       "Model mode: AUTOMATIC\n",
       "CachingOptimizer state: EMPTY_OPTIMIZER\n",
       "Solver name: Ipopt"
      ]
     },
     "execution_count": 6,
     "metadata": {},
     "output_type": "execute_result"
    }
   ],
   "source": [
    "using JuMP, Ipopt\n",
    "\n",
    "dice = Model(\n",
    "    with_optimizer(\n",
    "        Ipopt.Optimizer,\n",
    "#        linear_solver=\"ma97\",\n",
    "        linear_solver=\"MUMPS\",\n",
    "        tol = 0.1,\n",
    "        print_level = 5,\n",
    "        print_frequency_iter = 250,\n",
    "#        start_with_resto = \"yes\",        \n",
    "#        expect_infeasible_problem = \"yes\",\n",
    "#       max_iter = 5000\n",
    "        max_iter = 99900\n",
    "    )\n",
    ")"
   ]
  },
  {
   "cell_type": "markdown",
   "id": "62c8220d",
   "metadata": {},
   "source": [
    "Variables"
   ]
  },
  {
   "cell_type": "code",
   "execution_count": 7,
   "id": "344edcfb",
   "metadata": {},
   "outputs": [],
   "source": [
    "#@variable(dice, 0.0 <= MIU[i=1:N] <= 1.2); # Emission control rate GHGs\n",
    "@variable(dice, 0.0 <= MIU[i=1:N] <= 1.0); # Emission control rate GHGs\n",
    "@variable(dice, FORC[1:N]); #Increase in radiative forcing (watts per m2 from 1900)\n",
    "@variable(dice, 0.0 <= TATM[1:N] <= 12.); #Increase temperature of atmosphere (degrees C from 1900)\n",
    "@variable(dice, -1.0 <= TOCEAN[1:N] <= 20.0); #Increase temperatureof lower oceans (degrees C from 1900)\n",
    "@variable(dice, MAT[1:N] >= 10.0);#Carbon concentration increase in atmosphere (GtC from 1750)\n",
    "@variable(dice, MU[1:N] >= 100.0);#Carbon concentration increase in shallow oceans (GtC from 1750)\n",
    "@variable(dice, ML[1:N] >= 1000.0);#Carbon concentration increase in lower oceans (GtC from 1750)\n",
    "@variable(dice, E[1:N]); # Total CO2 emissions (GtCO2 per year)\n",
    "@variable(dice, EIND[1:N]); #Industrial emissions (GtCO2 per year)\n",
    "#@variable(dice, EIND[1:N] >= 1.0); #Industrial emissions (GtCO2 per year)\n",
    "@variable(dice, C[1:N] >= 2.0); #Consumption (trillions 2010 US dollars per year)\n",
    "@variable(dice, K[1:N] >= 1.0); #Capital stock (trillions 2010 US dollars)\n",
    "@variable(dice, CPC[1:N] >= 0.01);#Per capita consumption (thousands 2010 USD per year)\n",
    "#@variable(dice, YPC[1:N] >= 0.01);#Per capita output (thousands 2010 USD per year)\n",
    "@variable(dice, I[1:N] >= 0.0); # Investment (trillions 2010 USD per year)\n",
    "@variable(dice, S[1:N]); # Gross savings rate as fraction of gross world product\n",
    "@variable(dice, RI[1:N]); # Real interest rate (per annum)\n",
    "@variable(dice, Y[1:N] >= 0.0); # Gross world product net of abatement and damages (trillions 2005\n",
    "@variable(dice, YGROSS[1:N] >= 0.0); # Gross world product GROSS of abatement and damages (trillions 2010 USD per year)\n",
    "@variable(dice, YNET[1:N]);# Output net of damages equation (trillions 2005 USD per year)\n",
    "@variable(dice, DAMAGES[1:N]); # Damages (trillions 2005 USD per year)\n",
    "@variable(dice, DAMFRAC[1:N]); # Damages as fraction of gross output\n",
    "@variable(dice, ABATECOST[1:N]); # Cost of emissions reductions  (trillions 2005 USD per year)\n",
    "@variable(dice, MCABATE[1:N]);# Marginal cost of abatement (2005$ per ton CO2)\n",
    "@variable(dice, CCA[1:N] <= fosslim); # Cumulative industrial carbon emissions (GTC)\n",
    "@variable(dice, CCATOT[1:N]);#Total carbon emissions (GtC)\n",
    "@variable(dice, CPRICE[i=1:N]);# Carbon price (2005$ per ton of CO2)\n",
    "@variable(dice, PERIODU[1:N]);# One period utility function\n",
    "@variable(dice, CEMUTOTPER[1:N]);# Period utility\n",
    "@variable(dice, UTILITY);# Welfare function"
   ]
  },
  {
   "cell_type": "markdown",
   "id": "e1df8e20",
   "metadata": {},
   "source": [
    "Constraints"
   ]
  },
  {
   "cell_type": "code",
   "execution_count": 8,
   "id": "06a64a76",
   "metadata": {},
   "outputs": [],
   "source": [
    "#Emissions Equation\n",
    "  # Emissions Equation\n",
    "@NLconstraint(dice, EEQ[i=1:N], E[i] == EIND[i] + Etree[i]);\n",
    "  # Industrial Emissions\n",
    "#@NLconstraint(dice, EINDEQ[i=1:N], EIND[i] == σ[i] * YGROSS[i] * (1-(MIU[i])));\n",
    "@NLconstraint(dice, EINDEQ[i=1:N], EIND[i] == σ[i] * (1-(MIU[i]))*(YGROSS[i]^v_psi)*(L[i]/1000)^v_omega);\n",
    "  #Cumulative total carbon emissions\n",
    "@NLconstraint(dice, CCATOTEQ[i=1:N], CCATOT[i] == CCA[i] + cumtree[i]);\n",
    "  # Radiative forcing equation\n",
    "@NLconstraint(dice, FORCE[i=1:N], FORC[i] == η*log(MAT[i]/588.000)/log(2) + fₑₓ[i]);\n",
    "  # Equation for damage fraction\n",
    "@NLconstraint(dice, DAMFRACEQ[i=1:N], DAMFRAC[i] == (ψ₁ * TATM[i]) + (ψ₂ * TATM[i]^ψ₃));\n",
    "  # Damage equation\n",
    "@NLconstraint(dice, DAMEQ[i=1:N], DAMAGES[i] == YGROSS[i] * DAMFRAC[i]);\n",
    "  # Cost of emissions reductions equation\n",
    "@NLconstraint(dice, ABATEEQ[i=1:N], ABATECOST[i] == YGROSS[i] * θ₁[i] * (MIU[i]^θ₂));\n",
    "  # Equation for MC abatement\n",
    "@NLconstraint(dice, MCABATEEQ[i=1:N], MCABATE[i] == pbacktime[i] * MIU[i]^(θ₂-1));\n",
    "  # Carbon price equation from abatement\n",
    "@NLconstraint(dice, CARBPRICEEQ[i=1:N], CPRICE[i] == pbacktime[i] * (MIU[i]^(θ₂-1)));\n",
    "#Economy\n",
    "  # Output gross equation\n",
    "@NLconstraint(dice, YGROSSEQ[i=1:N], YGROSS[i] == A[i]*((L[i]/1000)^(1-γₑ))*K[i]^γₑ);\n",
    "  # Output net of damages equation\n",
    "@NLconstraint(dice, YNETEQ[i=1:N], YNET[i] == YGROSS[i] * (1-DAMFRAC[i]));\n",
    "  # Output net equation\n",
    "@NLconstraint(dice, YY[i=1:N], Y[i] == YNET[i] - ABATECOST[i]);\n",
    "  # Consumption equation\n",
    "@NLconstraint(dice, CC[i=1:N], C[i] == Y[i] - I[i]);\n",
    "  #Per capita consumption definition\n",
    "@NLconstraint(dice, CPCE[i=1:N], CPC[i] == 1000 * C[i] / L[i]);\n",
    "#Per capita outputn definition\n",
    "#@NLconstraint(dice, YPCE[i=1:N], YPC[i] == 1000 * Y[i] / L[i]);\n",
    "  # Savings rate equation\n",
    "@NLconstraint(dice, SEQ[i=1:N], I[i] == S[i] * Y[i]);\n",
    "# Instantaneous utility function equation\n",
    "#@NLconstraint(dice, PERIODUEQ[i=1:N], PERIODU[i] == ((C[i]*1000/L[i])^(1-α)-1)/(1-α)-1);\n",
    "@NLconstraint(dice, PERIODUEQ[i=1:N], PERIODU[i] == ((((C[i]*1000/L[i])*((σ[i]*(1-(MIU[i]))*(YGROSS[i]^v_psi)*L[i]^v_omega))^v_kappa)^(1-α)-1)/(1-α)-1));\n",
    " # Period utility\n",
    "#@NLconstraint(dice, CEMUTOTPEREQ[i=1:N], CEMUTOTPER[i] == PERIODU[i] * (L[i]) * rr[i]);\n",
    "@NLconstraint(dice, CEMUTOTPEREQ[i=1:N], CEMUTOTPER[i] == PERIODU[i] * (L[i]^v_epsilon) * rr[i]);"
   ]
  },
  {
   "cell_type": "code",
   "execution_count": 9,
   "id": "aa66cb98",
   "metadata": {},
   "outputs": [],
   "source": [
    "# Dynamic equations\n",
    "  # Cumulative carbon emissions\n",
    "@NLconstraint(dice, CCACCA[i=1:N-1], CCA[i+1] == CCA[i] + EIND[i] * 5/3.666);\n",
    "  # Atmospheric concentration equation\n",
    "@NLconstraint(dice, MMAT[i=1:N-1], MAT[i+1] == MAT[i]*ϕ₁₁ + MU[i]*ϕ₂₁ + E[i] * 5/3.666);\n",
    "  # Lower ocean concentration\n",
    "@NLconstraint(dice, MML[i=1:N-1], ML[i+1] == ML[i]*ϕ₃₃ + MU[i]*ϕ₂₃);\n",
    "  # Shallow ocean concentration\n",
    "@NLconstraint(dice, MMU[i=1:N-1], MU[i+1] == MAT[i]*ϕ₁₂ + MU[i]*ϕ₂₂ + ML[i]*ϕ₃₂);\n",
    "  # Temperature-climate equation for atmosphere\n",
    "@NLconstraint(dice, TATMEQ[i=1:N-1], TATM[i+1] == TATM[i] +\n",
    "                ξ₁*((FORC[i+1]-λ*TATM[i])-(ξ₃*(TATM[i]-TOCEAN[i]))));\n",
    "  # Temperature-climate equation for lower oceans\n",
    "@NLconstraint(dice, TOCEANEQ[i=1:N-1], TOCEAN[i+1] == TOCEAN[i] + ξ₄*(TATM[i]-TOCEAN[i]));\n",
    "  # Capital balance equation\n",
    "@NLconstraint(dice, KK[i=1:N-1], K[i+1] == (1-δk)^tstep * K[i] + tstep * I[i]);\n",
    "  # Interest rate equation\n",
    "@NLconstraint(dice, RIEQ[i=1:N-1], RI[i] == (1+ρ)*(CPC[i+1]/CPC[i])^(α/tstep) - 1);"
   ]
  },
  {
   "cell_type": "code",
   "execution_count": 10,
   "id": "4c1779f0",
   "metadata": {},
   "outputs": [],
   "source": [
    "# Savings rate for asympotic equilibrium\n",
    "#da capire cosa vuol dire. Otteniamo l'ottimo anche senza \n",
    "    for i=N-9:N\n",
    "        JuMP.fix(S[i], optlrsav; force=true);\n",
    "    end\n",
    "#Initial conditions\n",
    "JuMP.fix(CCA[1], 400.; force=true);\n",
    "JuMP.fix(MAT[1], mat₀; force=true);\n",
    "JuMP.fix(MU[1], mu₀; force=true);\n",
    "JuMP.fix(ML[1], ml₀; force=true);\n",
    "JuMP.fix(TOCEAN[1], tocean₀; force=true);\n",
    "JuMP.fix(K[1], k₀; force = true); # might be problematic; see LIbbum\n",
    "JuMP.fix(TATM[1], tatm₀; force=true); # might be problematic; see LIbbum\n",
    "\n",
    "#To let emi start at e0\n",
    "#JuMP.fix(EIND[1], e₀ ; force=true); "
   ]
  },
  {
   "cell_type": "markdown",
   "id": "e6a3e37a",
   "metadata": {},
   "source": [
    "Objective Function"
   ]
  },
  {
   "cell_type": "code",
   "execution_count": 11,
   "id": "9fab8831",
   "metadata": {},
   "outputs": [],
   "source": [
    "# Objective function\n",
    "@NLobjective(dice, Max, tstep * scale1 * sum(CEMUTOTPER[i] for i=1:N) + scale2);"
   ]
  },
  {
   "cell_type": "code",
   "execution_count": 12,
   "id": "a0cb4feb",
   "metadata": {},
   "outputs": [],
   "source": [
    "#BaU: For base run, this subroutine calculates Hotelling rents.\n",
    "#Carbon price is maximum of Hotelling rent or baseline price\n",
    "\n",
    "photel = CPRICE;\n",
    "for i in N\n",
    "        if i <= tnopol\n",
    "            JuMP.set_upper_bound(CPRICE[i], max(photel[i],cpricebase[i]));\n",
    "        end\n",
    "end"
   ]
  },
  {
   "cell_type": "markdown",
   "id": "3d6b6bec",
   "metadata": {},
   "source": [
    "Here we go"
   ]
  },
  {
   "cell_type": "code",
   "execution_count": 13,
   "id": "dbfad1b4",
   "metadata": {},
   "outputs": [
    {
     "name": "stdout",
     "output_type": "stream",
     "text": [
      "\n",
      "******************************************************************************\n",
      "This program contains Ipopt, a library for large-scale nonlinear optimization.\n",
      " Ipopt is released as open source code under the Eclipse Public License (EPL).\n",
      "         For more information visit https://github.com/coin-or/Ipopt\n",
      "******************************************************************************\n",
      "\n",
      "This is Ipopt version 3.14.4, running with linear solver MUMPS 5.4.1.\n",
      "\n",
      "Number of nonzeros in equality constraint Jacobian...:     6946\n",
      "Number of nonzeros in inequality constraint Jacobian.:        0\n",
      "Number of nonzeros in Lagrangian Hessian.............:     2874\n",
      "\n",
      "Total number of variables............................:     2684\n",
      "                     variables with only lower bounds:      896\n",
      "                variables with lower and upper bounds:      298\n",
      "                     variables with only upper bounds:       99\n",
      "Total number of equality constraints.................:     2492\n",
      "Total number of inequality constraints...............:        0\n",
      "        inequality constraints with only lower bounds:        0\n",
      "   inequality constraints with lower and upper bounds:        0\n",
      "        inequality constraints with only upper bounds:        0\n",
      "\n",
      "iter    objective    inf_pr   inf_du lg(mu)  ||d||  lg(rg) alpha_du alpha_pr  ls\n",
      "   0 -1.0993704e+04 8.29e+02 1.00e+00  -1.0 0.00e+00    -  0.00e+00 0.00e+00   0\n",
      " 250 -2.1387206e+03 8.99e+01 9.06e+06  -1.0 6.25e+03   0.5 1.20e-02 5.95e-04h  1\n",
      "\n",
      "Number of Iterations....: 378\n",
      "\n",
      "                                   (scaled)                 (unscaled)\n",
      "Objective...............:  -4.2151706521079414e+03    4.2151706521079414e+03\n",
      "Dual infeasibility......:   9.0910757189674676e-11    9.0910757189674676e-11\n",
      "Constraint violation....:   3.3486458050902002e-10    3.3486458050902002e-10\n",
      "Variable bound violation:   0.0000000000000000e+00    0.0000000000000000e+00\n",
      "Complementarity.........:   9.0909136848877004e-06    9.0909136848877004e-06\n",
      "Overall NLP error.......:   9.0909136848877004e-06    9.0909136848877004e-06\n",
      "\n",
      "\n",
      "Number of objective function evaluations             = 447\n",
      "Number of objective gradient evaluations             = 335\n",
      "Number of equality constraint evaluations            = 447\n",
      "Number of inequality constraint evaluations          = 0\n",
      "Number of equality constraint Jacobian evaluations   = 392\n",
      "Number of inequality constraint Jacobian evaluations = 0\n",
      "Number of Lagrangian Hessian evaluations             = 378\n",
      "Total seconds in IPOPT                               = 12.346\n",
      "\n",
      "EXIT: Optimal Solution Found.\n"
     ]
    },
    {
     "data": {
      "text/plain": [
       "LOCALLY_SOLVED::TerminationStatusCode = 4"
      ]
     },
     "execution_count": 13,
     "metadata": {},
     "output_type": "execute_result"
    }
   ],
   "source": [
    "optimize!(dice);\n",
    "\n",
    "dice_status = termination_status(dice)\n",
    "#println(\"UTILITY = \", getobjectivevalue(dice), \", $dice_status\")"
   ]
  },
  {
   "cell_type": "code",
   "execution_count": 14,
   "id": "06b85c14",
   "metadata": {},
   "outputs": [],
   "source": [
    "#STORE ARRAY.Ex:\n",
    "using JLD2\n",
    "UTILITY_B_LIDDLE = JuMP.value.(PERIODU[1:N-80])\n",
    "WELF_B_LIDDLE = JuMP.value.(CEMUTOTPER[1:N-80])\n",
    "TEMP_B_LIDDLE = JuMP.value.(TATM[1:N-80])\n",
    "MIU_B_LIDDLE = JuMP.value.(MIU[1:N-80])\n",
    "POP_B_LIDDLE = JuMP.value.(L[1:N-80])\n",
    "E_B_LIDDLE = JuMP.value.(E[1:N-80])\n",
    "EIND_B_LIDDLE = JuMP.value.(EIND[1:N-80])\n",
    "YGROSS_B_LIDDLE = JuMP.value.(YGROSS[1:N-80])\n",
    "YNET_B_LIDDLE = JuMP.value.(YNET[1:N-80])\n",
    "Y_B_LIDDLE = JuMP.value.(Y[1:N-80])\n",
    "DAMAGES_B_LIDDLE = JuMP.value.(DAMAGES[1:N-80])\n",
    "DAMFRAC_B_LIDDLE = JuMP.value.(DAMFRAC[1:N-80])\n",
    "ABATECOST_B_LIDDLE = JuMP.value.(ABATECOST[1:N-80])\n",
    "CPRICE_B_LIDDLE = JuMP.value.(CPRICE[1:N-80])\n",
    "L_B_LIDDLE = JuMP.value.(L[1:N-80])\n",
    "#YPC_B_HIGHP = JuMP.value.(YPC[1:N-80])\n",
    "; #without , you see the numbers"
   ]
  },
  {
   "cell_type": "code",
   "execution_count": 15,
   "id": "6073de37",
   "metadata": {},
   "outputs": [],
   "source": [
    "#WRITING OUTPUT\n",
    "@save \"output_B_LIDDLE.jld2\" UTILITY_B_LIDDLE WELF_B_LIDDLE TEMP_B_LIDDLE MIU_B_LIDDLE POP_B_LIDDLE E_B_LIDDLE EIND_B_LIDDLE YGROSS_B_LIDDLE YNET_B_LIDDLE Y_B_LIDDLE DAMAGES_B_LIDDLE DAMFRAC_B_LIDDLE ABATECOST_B_LIDDLE CPRICE_B_LIDDLE L_B_LIDDLE "
   ]
  },
  {
   "cell_type": "code",
   "execution_count": 16,
   "id": "9ebb1276",
   "metadata": {},
   "outputs": [],
   "source": [
    "#using Gadfly\n",
    "#plot(x=1:N-80, y = JuMP.value.(EIND[1:N-80]), Geom.point, Geom.line)"
   ]
  },
  {
   "cell_type": "code",
   "execution_count": 17,
   "id": "373a4714",
   "metadata": {},
   "outputs": [],
   "source": [
    "#plot(x=1:N-80, y = JuMP.value.(L[1:N-80]), Geom.point, Geom.line)"
   ]
  },
  {
   "cell_type": "code",
   "execution_count": 18,
   "id": "0e1e9310",
   "metadata": {},
   "outputs": [],
   "source": [
    "#plot(x=1:N-80, y = JuMP.value.(CPRICE[1:N-80]), Geom.point, Geom.line)"
   ]
  },
  {
   "cell_type": "code",
   "execution_count": 19,
   "id": "a7856989",
   "metadata": {},
   "outputs": [
    {
     "data": {
      "text/plain": [
       "20-element Vector{Float64}:\n",
       "   2.875914591460118\n",
       "   3.8180116219082594\n",
       "   5.007812718183196\n",
       "   6.499126688089606\n",
       "   8.355395096652897\n",
       "  10.651181834965286\n",
       "  13.47385758022193\n",
       "  16.925493401191883\n",
       "  21.124977529414682\n",
       "  26.210368059486434\n",
       "  32.34149194507415\n",
       "  39.70279712274199\n",
       "  48.50646033371453\n",
       "  58.995749531166176\n",
       "  71.44864126218569\n",
       "  86.18170774970892\n",
       " 103.55433833695304\n",
       " 123.97348964992884\n",
       " 147.8994644120591\n",
       " 175.8538907370662"
      ]
     },
     "execution_count": 19,
     "metadata": {},
     "output_type": "execute_result"
    }
   ],
   "source": [
    "CPRICE_B_LIDDLE = JuMP.value.(CPRICE[1:N-80])"
   ]
  },
  {
   "cell_type": "code",
   "execution_count": 20,
   "id": "d8ce0845",
   "metadata": {},
   "outputs": [
    {
     "data": {
      "text/plain": [
       "20-element Vector{Float64}:\n",
       " 137.70787824143892\n",
       " 155.1781474790077\n",
       " 171.78433318120395\n",
       " 187.17412033858963\n",
       " 201.03748264577268\n",
       " 213.10804040037436\n",
       " 223.1612394885939\n",
       " 231.01042168593455\n",
       " 236.50171133130078\n",
       " 239.50844406657154\n",
       " 239.9256601923498\n",
       " 237.66500568589157\n",
       " 232.65023869986524\n",
       " 224.81342835293032\n",
       " 214.09184816201724\n",
       " 200.4254987563026\n",
       " 183.75512473630835\n",
       " 164.02049515253114\n",
       " 141.15855568748094\n",
       " 115.10077240402359"
      ]
     },
     "execution_count": 20,
     "metadata": {},
     "output_type": "execute_result"
    }
   ],
   "source": [
    "EIND_B_LIDDLE = JuMP.value.(EIND[1:N-80])"
   ]
  },
  {
   "cell_type": "code",
   "execution_count": 21,
   "id": "eee06395",
   "metadata": {},
   "outputs": [],
   "source": [
    "#YPC_B_HIGHPP = JuMP.value.(YPC[1:N-80])"
   ]
  }
 ],
 "metadata": {
  "kernelspec": {
   "display_name": "Julia 1.7.1",
   "language": "julia",
   "name": "julia-1.7"
  },
  "language_info": {
   "file_extension": ".jl",
   "mimetype": "application/julia",
   "name": "julia",
   "version": "1.7.1"
  }
 },
 "nbformat": 4,
 "nbformat_minor": 5
}
